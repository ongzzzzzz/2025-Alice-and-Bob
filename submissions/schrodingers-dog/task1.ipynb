{
 "cells": [
  {
   "cell_type": "markdown",
   "id": "8f9ca363-3e5b-4727-9ec8-14bdff60b9fc",
   "metadata": {},
   "source": [
    "# Task 1: Simulate the dynamics of cat qubits at the effective Hamiltonian level.\n",
    "\n",
    "In Tutorial 1, we have introduced that we can dissipatively stabilize a cat qubit by coupling a memory mode  that will store our cat qubit to a lossy buffer mode with a specific interaction that exchanges two photons of the memory mode with one photon in the buffer mode.\n",
    "\n",
    "For this, consider the Lindblad master equation:\n",
    "\n",
    "$$\\frac{d \\hat{\\rho}}{dt} = \\mathcal{L}[\\hat{\\rho}] = -i \\left[\\hat{H}, \\hat{\\rho}\\right] + \\kappa_b \\mathcal{D}(\\hat{b})[\\hat{\\rho}]$$\n",
    "\n",
    "The Hamiltonian of the system is given by\n",
    "$$\\hat{H} = \\hat{H}_{\\mathrm{2ph}} + \\hat{H}_d, \\qquad \\mathrm{with}$$\n",
    "$$\\hat{H}_{\\mathrm{2ph}} = g_2 {\\hat{a}^\\dagger}^2 \\hat{b} + g_2^*\\hat{a}^2 \\hat{b}^\\dagger$$\n",
    "$$\\hat{H}_d = \\epsilon_d^* \\hat{b} + \\epsilon_d \\hat{b}^\\dagger$$\n",
    "\n",
    "Here, $\\hat{H}_{\\mathrm{2ph}}$ is the two-photon exchange Hamiltonian and $\\hat{H}_d$ is the buffer drive Hamiltonian."
   ]
  },
  {
   "cell_type": "code",
   "execution_count": 1,
   "id": "cb36d35e-70fc-495c-a117-2f6fa86d6602",
   "metadata": {},
   "outputs": [],
   "source": [
    "import dynamiqs as dq\n",
    "import matplotlib.pyplot as plt\n",
    "import numpy as np"
   ]
  },
  {
   "cell_type": "markdown",
   "id": "aa594b07-9d28-4224-990d-3a05ff7ec3cc",
   "metadata": {},
   "source": [
    "**Task 1.1: Getting started with `dynamiqs`**\n",
    "\n",
    "Using `dynamiqs`, simulate the time-evolution of this system with the following parameters:\n",
    "\n",
    "$$g_2=1.0~~~\\epsilon_d=-4~~~\\kappa_b=10$$\n",
    "\n",
    "(For now, we pretend that the parameters are without dimensions)\n",
    "\n",
    "Use an initial state $\\lvert \\psi_0 \\rangle$ in which both the buffer and the memory are in the vacuum. Use a Hilbert-space truncation of $n_a = 20$ and $n_b = 5$ (number of Fock-states in mode a and mode b, respectively) to begin with. You can play with a different Hilbert-space truncation.\n",
    "\n",
    "Simulate the dynamics for a time $T=4$. \n",
    "\n",
    "Plot the wigner function of mode a (as a GIF or as a mosaic plot).\n",
    "\n",
    "Also plot the expectation value of the number of photons, as well as the photon number parity in the memory mode.\n"
   ]
  },
  {
   "cell_type": "code",
   "execution_count": null,
   "id": "492ec0e4-e5e4-4919-9f59-103e0296bb27",
   "metadata": {},
   "outputs": [],
   "source": [
    "na = 20 # mode a\n",
    "nb = 5 # mode b\n",
    "\n",
    "g_2 = 1.0\n",
    "epsilon_d = -4\n",
    "kappa_b = 10\n",
    "\n",
    "a = dq.destroy(na) # annihilaiton operator\n",
    "b = dq.destroy(nb) # annihilaiton operator\n",
    "psi0_a = dq.fock(na, 0) # initial state\n",
    "psi0_b = dq.fock(nb, 0) # initial state\n",
    "psi0 = dq.tensor([psi0_a, psi0_b]) # initial state\n",
    "\n",
    "a_upgraded = dq.tensor([a, dq.eye(nb)])\n",
    "b_upgraded = dq.tensor([dq.eye(na), b])\n",
    "\n",
    "H_absorption = g_2 * (a_upgraded.dag() @ a_upgraded.dag() @ b_upgraded) + g_2.conj() * (a_upgraded @ a_upgraded @ b_upgraded.dag()) \n",
    "H_bdrive = epsilon_d.conj() * b_upgraded + epsilon_d * b_upgraded.dag() \n",
    "H = H_absorption + H_bdrive\n",
    "\n",
    "tsave = np.linspace(0, 4, 100)\n",
    "# loss_op = np.sqrt(kappa_2)*(a @ a - alpha**2 * dq.eye(na)) # loss operator\n",
    "res = dq.mesolve(H, [kappa_b * b_upgraded], psi0, tsave)\n",
    "dq.plot.wigner_gif(res.states) "
   ]
  }
 ],
 "metadata": {
  "kernelspec": {
   "display_name": "generic",
   "language": "python",
   "name": "python3"
  },
  "language_info": {
   "codemirror_mode": {
    "name": "ipython",
    "version": 3
   },
   "file_extension": ".py",
   "mimetype": "text/x-python",
   "name": "python",
   "nbconvert_exporter": "python",
   "pygments_lexer": "ipython3",
   "version": "3.9.6"
  }
 },
 "nbformat": 4,
 "nbformat_minor": 5
}
