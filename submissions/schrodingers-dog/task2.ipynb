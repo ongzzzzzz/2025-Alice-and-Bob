{
 "cells": [
  {
   "cell_type": "code",
   "execution_count": null,
   "id": "01c4a801-2b4e-46d1-a473-eaa411e9942c",
   "metadata": {},
   "outputs": [],
   "source": []
  }
 ],
 "metadata": {
  "kernelspec": {
   "display_name": "AliceBob",
   "language": "python",
   "name": "python3_alice_g9lq38"
  },
  "language_info": {
   "codemirror_mode": {
    "name": "ipython",
    "version": 3
   },
   "file_extension": ".py",
   "mimetype": "text/x-python",
   "name": "python",
   "nbconvert_exporter": "python",
   "pygments_lexer": "ipython3",
   "version": "3.11.9"
  }
 },
 "nbformat": 4,
 "nbformat_minor": 5
}
